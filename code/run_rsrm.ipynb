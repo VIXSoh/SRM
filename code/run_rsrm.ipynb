{
 "cells": [
  {
   "cell_type": "markdown",
   "metadata": {},
   "source": [
    "# Prepare data to fit RSRM\n",
    "\n",
    "- Andrew J. Graves, Cory Clayton, Joon Soh, Gabe Yohe\n",
    "- 02/12/21"
   ]
  },
  {
   "cell_type": "markdown",
   "metadata": {},
   "source": [
    "## Run necessary scripts for RSRM"
   ]
  },
  {
   "cell_type": "code",
   "execution_count": 1,
   "metadata": {},
   "outputs": [],
   "source": [
    "%%capture output\n",
    "# Run scripts for RSRM (double quotes work for Windows and Mac)\n",
    "%run \"rsrm_prep\"\n",
    "%run \"rsrm\""
   ]
  },
  {
   "cell_type": "markdown",
   "metadata": {},
   "source": [
    "## Pre-process, feature engineer, and run RSRM"
   ]
  },
  {
   "cell_type": "code",
   "execution_count": 2,
   "metadata": {},
   "outputs": [
    {
     "name": "stdout",
     "output_type": "stream",
     "text": [
      "100% [..........................................................................] 2596896 / 2596896S001R03.edf\n",
      "Extracting EDF parameters from C:\\Users\\Andrew Graves\\Documents\\University of Virginia\\Course Work\\Fall 2020\\ds_6011\\code\\S001R03.edf...\n",
      "EDF file detected\n",
      "Setting channel info structure...\n",
      "Creating raw.info structure...\n",
      "Reading 0 ... 19999  =      0.000 ...   124.994 secs...\n",
      "Apply high-pass filter at 1 Hz\n",
      "Bad channels detected: ['T8..', 'Tp8.', 'T10.']\n",
      "Apply notch filter at 60 Hz and its harmonics\n",
      "EEG channel type selected for re-referencing\n",
      "Applying average reference.\n",
      "Applying a custom EEG reference.\n",
      "Fitting ICA to data using 61 channels (please be patient, this may take a while)\n",
      "Selecting by non-zero PCA components: 60 components\n",
      "Fitting ICA took 3.6s.\n",
      "Applying ICA to Raw instance\n",
      "    Transforming to ICA space (60 components)\n",
      "    Zeroing out 2 ICA components\n",
      "    Projecting back using 61 PCA components\n",
      "Removed IC index [0, 3]\n",
      "Interpolating bad channels\n",
      "    Automatic origin fit: head of radius 95940.1 mm\n",
      "Computing interpolation matrix from 61 sensor positions\n",
      "Interpolating 3 sensors\n",
      "Used Annotations descriptions: ['T0', 'T1', 'T2']\n",
      "Not setting metadata\n",
      "Not setting metadata\n",
      "30 matching events found\n",
      "Setting baseline interval to [-0.2, 0.0] sec\n",
      "Applying baseline correction (mode: mean)\n",
      "0 projection items activated\n",
      "Loading data for 30 events and 673 original time points ...\n",
      "1 bad epochs dropped\n"
     ]
    },
    {
     "name": "stderr",
     "output_type": "stream",
     "text": [
      "C:\\Users\\Andrew Graves\\Documents\\University of Virginia\\Course Work\\Fall 2020\\ds_6011\\code\\rsrm_prep.py:209: RuntimeWarning: Estimated head size (95940.1 mm) exceeded 99th percentile for adult head size\n",
      "  raw.interpolate_bads()\n",
      "C:\\Users\\Andrew Graves\\Documents\\University of Virginia\\Course Work\\Fall 2020\\ds_6011\\code\\rsrm_prep.py:209: RuntimeWarning: (X, Y) fit (1280.7, -393.1) more than 20 mm from head frame origin\n",
      "  raw.interpolate_bads()\n"
     ]
    },
    {
     "name": "stdout",
     "output_type": "stream",
     "text": [
      "100% [..........................................................................] 2596896 / 2596896S001R07.edf\n",
      "Extracting EDF parameters from C:\\Users\\Andrew Graves\\Documents\\University of Virginia\\Course Work\\Fall 2020\\ds_6011\\code\\S001R07.edf...\n",
      "EDF file detected\n",
      "Setting channel info structure...\n",
      "Creating raw.info structure...\n",
      "Reading 0 ... 19999  =      0.000 ...   124.994 secs...\n",
      "Apply high-pass filter at 1 Hz\n",
      "Bad channels detected: ['T8..', 'Ft8.', 'T10.', 'Tp8.', 'F8..']\n",
      "Apply notch filter at 60 Hz and its harmonics\n",
      "EEG channel type selected for re-referencing\n",
      "Applying average reference.\n",
      "Applying a custom EEG reference.\n",
      "Fitting ICA to data using 59 channels (please be patient, this may take a while)\n",
      "Selecting by non-zero PCA components: 58 components\n",
      "Fitting ICA took 3.9s.\n",
      "Applying ICA to Raw instance\n",
      "    Transforming to ICA space (58 components)\n",
      "    Zeroing out 2 ICA components\n",
      "    Projecting back using 59 PCA components\n",
      "Removed IC index [0, 1]\n",
      "Interpolating bad channels\n",
      "    Automatic origin fit: head of radius 95940.1 mm\n",
      "Computing interpolation matrix from 59 sensor positions\n",
      "Interpolating 5 sensors\n",
      "Used Annotations descriptions: ['T0', 'T1', 'T2']\n",
      "Not setting metadata\n",
      "Not setting metadata\n",
      "30 matching events found\n",
      "Setting baseline interval to [-0.2, 0.0] sec\n",
      "Applying baseline correction (mode: mean)\n",
      "0 projection items activated\n",
      "Loading data for 30 events and 673 original time points ...\n",
      "1 bad epochs dropped\n"
     ]
    },
    {
     "name": "stderr",
     "output_type": "stream",
     "text": [
      "C:\\Users\\Andrew Graves\\Documents\\University of Virginia\\Course Work\\Fall 2020\\ds_6011\\code\\rsrm_prep.py:209: RuntimeWarning: Estimated head size (95940.1 mm) exceeded 99th percentile for adult head size\n",
      "  raw.interpolate_bads()\n",
      "C:\\Users\\Andrew Graves\\Documents\\University of Virginia\\Course Work\\Fall 2020\\ds_6011\\code\\rsrm_prep.py:209: RuntimeWarning: (X, Y) fit (1280.7, -393.1) more than 20 mm from head frame origin\n",
      "  raw.interpolate_bads()\n"
     ]
    },
    {
     "name": "stdout",
     "output_type": "stream",
     "text": [
      "100% [..........................................................................] 2596896 / 2596896S001R11.edf\n",
      "Extracting EDF parameters from C:\\Users\\Andrew Graves\\Documents\\University of Virginia\\Course Work\\Fall 2020\\ds_6011\\code\\S001R11.edf...\n",
      "EDF file detected\n",
      "Setting channel info structure...\n",
      "Creating raw.info structure...\n",
      "Reading 0 ... 19999  =      0.000 ...   124.994 secs...\n",
      "Apply high-pass filter at 1 Hz\n",
      "Bad channels detected: ['T8..', 'Ft8.', 'T10.', 'T7..', 'Tp8.']\n",
      "Apply notch filter at 60 Hz and its harmonics\n",
      "EEG channel type selected for re-referencing\n",
      "Applying average reference.\n",
      "Applying a custom EEG reference.\n",
      "Fitting ICA to data using 59 channels (please be patient, this may take a while)\n",
      "Selecting by non-zero PCA components: 58 components\n",
      "Fitting ICA took 4.4s.\n",
      "Applying ICA to Raw instance\n",
      "    Transforming to ICA space (58 components)\n",
      "    Zeroing out 2 ICA components\n",
      "    Projecting back using 59 PCA components\n",
      "Removed IC index [0, 1]\n",
      "Interpolating bad channels\n",
      "    Automatic origin fit: head of radius 95940.1 mm\n",
      "Computing interpolation matrix from 59 sensor positions\n",
      "Interpolating 5 sensors\n",
      "Used Annotations descriptions: ['T0', 'T1', 'T2']\n",
      "Not setting metadata\n",
      "Not setting metadata\n",
      "30 matching events found\n",
      "Setting baseline interval to [-0.2, 0.0] sec\n",
      "Applying baseline correction (mode: mean)\n",
      "0 projection items activated\n",
      "Loading data for 30 events and 673 original time points ...\n",
      "1 bad epochs dropped\n",
      "Not setting metadata\n",
      "Not setting metadata\n",
      "87 matching events found\n",
      "Applying baseline correction (mode: mean)\n",
      "0 bad epochs dropped\n"
     ]
    },
    {
     "name": "stderr",
     "output_type": "stream",
     "text": [
      "C:\\Users\\Andrew Graves\\Documents\\University of Virginia\\Course Work\\Fall 2020\\ds_6011\\code\\rsrm_prep.py:209: RuntimeWarning: Estimated head size (95940.1 mm) exceeded 99th percentile for adult head size\n",
      "  raw.interpolate_bads()\n",
      "C:\\Users\\Andrew Graves\\Documents\\University of Virginia\\Course Work\\Fall 2020\\ds_6011\\code\\rsrm_prep.py:209: RuntimeWarning: (X, Y) fit (1280.7, -393.1) more than 20 mm from head frame origin\n",
      "  raw.interpolate_bads()\n"
     ]
    },
    {
     "name": "stdout",
     "output_type": "stream",
     "text": [
      "100% [..........................................................................] 2555616 / 2555616S002R03.edf\n",
      "Extracting EDF parameters from C:\\Users\\Andrew Graves\\Documents\\University of Virginia\\Course Work\\Fall 2020\\ds_6011\\code\\S002R03.edf...\n",
      "EDF file detected\n",
      "Setting channel info structure...\n",
      "Creating raw.info structure...\n",
      "Reading 0 ... 19679  =      0.000 ...   122.994 secs...\n",
      "Apply high-pass filter at 1 Hz\n",
      "Bad channels detected: ['Af7.', 'T10.', 'T7..', 'C5..', 'Tp7.', 'F8..']\n",
      "Apply notch filter at 60 Hz and its harmonics\n",
      "EEG channel type selected for re-referencing\n",
      "Applying average reference.\n",
      "Applying a custom EEG reference.\n",
      "Fitting ICA to data using 58 channels (please be patient, this may take a while)\n",
      "Selecting by non-zero PCA components: 57 components\n",
      "Fitting ICA took 3.9s.\n",
      "Applying ICA to Raw instance\n",
      "    Transforming to ICA space (57 components)\n",
      "    Zeroing out 2 ICA components\n",
      "    Projecting back using 58 PCA components\n",
      "Removed IC index [0, 1]\n",
      "Interpolating bad channels\n",
      "    Automatic origin fit: head of radius 95940.1 mm\n",
      "Computing interpolation matrix from 58 sensor positions\n",
      "Interpolating 6 sensors\n",
      "Used Annotations descriptions: ['T0', 'T1', 'T2']\n",
      "Not setting metadata\n",
      "Not setting metadata\n",
      "30 matching events found\n",
      "Setting baseline interval to [-0.2, 0.0] sec\n",
      "Applying baseline correction (mode: mean)\n",
      "0 projection items activated\n",
      "Loading data for 30 events and 673 original time points ...\n",
      "1 bad epochs dropped\n"
     ]
    },
    {
     "name": "stderr",
     "output_type": "stream",
     "text": [
      "C:\\Users\\Andrew Graves\\Documents\\University of Virginia\\Course Work\\Fall 2020\\ds_6011\\code\\rsrm_prep.py:209: RuntimeWarning: Estimated head size (95940.1 mm) exceeded 99th percentile for adult head size\n",
      "  raw.interpolate_bads()\n",
      "C:\\Users\\Andrew Graves\\Documents\\University of Virginia\\Course Work\\Fall 2020\\ds_6011\\code\\rsrm_prep.py:209: RuntimeWarning: (X, Y) fit (1280.7, -393.1) more than 20 mm from head frame origin\n",
      "  raw.interpolate_bads()\n"
     ]
    },
    {
     "name": "stdout",
     "output_type": "stream",
     "text": [
      "100% [..........................................................................] 2555616 / 2555616S002R07.edf\n",
      "Extracting EDF parameters from C:\\Users\\Andrew Graves\\Documents\\University of Virginia\\Course Work\\Fall 2020\\ds_6011\\code\\S002R07.edf...\n",
      "EDF file detected\n",
      "Setting channel info structure...\n",
      "Creating raw.info structure...\n",
      "Reading 0 ... 19679  =      0.000 ...   122.994 secs...\n",
      "Apply high-pass filter at 1 Hz\n",
      "Bad channels detected: ['Af7.', 'T10.', 'T7..', 'Tp7.', 'F8..', 'Fc5.']\n",
      "Apply notch filter at 60 Hz and its harmonics\n",
      "EEG channel type selected for re-referencing\n",
      "Applying average reference.\n",
      "Applying a custom EEG reference.\n",
      "Fitting ICA to data using 58 channels (please be patient, this may take a while)\n",
      "Selecting by non-zero PCA components: 57 components\n",
      "Fitting ICA took 7.8s.\n"
     ]
    },
    {
     "name": "stderr",
     "output_type": "stream",
     "text": [
      "C:\\Users\\Andrew Graves\\AppData\\Roaming\\Python\\Python37\\site-packages\\sklearn\\decomposition\\_fastica.py:120: ConvergenceWarning: FastICA did not converge. Consider increasing tolerance or the maximum number of iterations.\n",
      "  ConvergenceWarning)\n"
     ]
    },
    {
     "name": "stdout",
     "output_type": "stream",
     "text": [
      "Applying ICA to Raw instance\n",
      "    Transforming to ICA space (57 components)\n",
      "    Zeroing out 2 ICA components\n",
      "    Projecting back using 58 PCA components\n",
      "Removed IC index [0, 2]\n",
      "Interpolating bad channels\n",
      "    Automatic origin fit: head of radius 95940.1 mm\n",
      "Computing interpolation matrix from 58 sensor positions\n",
      "Interpolating 6 sensors\n",
      "Used Annotations descriptions: ['T0', 'T1', 'T2']\n",
      "Not setting metadata\n",
      "Not setting metadata\n",
      "30 matching events found\n",
      "Setting baseline interval to [-0.2, 0.0] sec\n",
      "Applying baseline correction (mode: mean)\n",
      "0 projection items activated\n",
      "Loading data for 30 events and 673 original time points ...\n",
      "1 bad epochs dropped\n"
     ]
    },
    {
     "name": "stderr",
     "output_type": "stream",
     "text": [
      "C:\\Users\\Andrew Graves\\Documents\\University of Virginia\\Course Work\\Fall 2020\\ds_6011\\code\\rsrm_prep.py:209: RuntimeWarning: Estimated head size (95940.1 mm) exceeded 99th percentile for adult head size\n",
      "  raw.interpolate_bads()\n",
      "C:\\Users\\Andrew Graves\\Documents\\University of Virginia\\Course Work\\Fall 2020\\ds_6011\\code\\rsrm_prep.py:209: RuntimeWarning: (X, Y) fit (1280.7, -393.1) more than 20 mm from head frame origin\n",
      "  raw.interpolate_bads()\n"
     ]
    },
    {
     "name": "stdout",
     "output_type": "stream",
     "text": [
      "100% [..........................................................................] 2555616 / 2555616S002R11.edf\n",
      "Extracting EDF parameters from C:\\Users\\Andrew Graves\\Documents\\University of Virginia\\Course Work\\Fall 2020\\ds_6011\\code\\S002R11.edf...\n",
      "EDF file detected\n",
      "Setting channel info structure...\n",
      "Creating raw.info structure...\n",
      "Reading 0 ... 19679  =      0.000 ...   122.994 secs...\n",
      "Apply high-pass filter at 1 Hz\n",
      "Bad channels detected: ['T10.', 'F7..', 'C5..', 'Tp7.', 'Fc5.']\n",
      "Apply notch filter at 60 Hz and its harmonics\n",
      "EEG channel type selected for re-referencing\n",
      "Applying average reference.\n",
      "Applying a custom EEG reference.\n",
      "Fitting ICA to data using 59 channels (please be patient, this may take a while)\n",
      "Selecting by non-zero PCA components: 58 components\n",
      "Fitting ICA took 3.6s.\n",
      "Applying ICA to Raw instance\n",
      "    Transforming to ICA space (58 components)\n",
      "    Zeroing out 3 ICA components\n",
      "    Projecting back using 59 PCA components\n",
      "Removed IC index [0, 1, 19]\n",
      "Interpolating bad channels\n",
      "    Automatic origin fit: head of radius 95940.1 mm\n",
      "Computing interpolation matrix from 59 sensor positions\n",
      "Interpolating 5 sensors\n",
      "Used Annotations descriptions: ['T0', 'T1', 'T2']\n",
      "Not setting metadata\n",
      "Not setting metadata\n",
      "30 matching events found\n",
      "Setting baseline interval to [-0.2, 0.0] sec\n",
      "Applying baseline correction (mode: mean)\n",
      "0 projection items activated\n",
      "Loading data for 30 events and 673 original time points ...\n",
      "1 bad epochs dropped\n",
      "Not setting metadata\n",
      "Not setting metadata\n",
      "87 matching events found\n",
      "Applying baseline correction (mode: mean)\n",
      "0 bad epochs dropped\n",
      "----- Feature engineering subject 0 -----\n"
     ]
    },
    {
     "name": "stderr",
     "output_type": "stream",
     "text": [
      "C:\\Users\\Andrew Graves\\Documents\\University of Virginia\\Course Work\\Fall 2020\\ds_6011\\code\\rsrm_prep.py:209: RuntimeWarning: Estimated head size (95940.1 mm) exceeded 99th percentile for adult head size\n",
      "  raw.interpolate_bads()\n",
      "C:\\Users\\Andrew Graves\\Documents\\University of Virginia\\Course Work\\Fall 2020\\ds_6011\\code\\rsrm_prep.py:209: RuntimeWarning: (X, Y) fit (1280.7, -393.1) more than 20 mm from head frame origin\n",
      "  raw.interpolate_bads()\n"
     ]
    },
    {
     "name": "stdout",
     "output_type": "stream",
     "text": [
      "Not setting metadata\n",
      "Completed subject 0\n",
      "----- Feature engineering subject 1 -----\n",
      "Not setting metadata\n",
      "Completed subject 1\n"
     ]
    },
    {
     "name": "stderr",
     "output_type": "stream",
     "text": [
      "C:\\Users\\Andrew Graves\\AppData\\Roaming\\Python\\Python37\\site-packages\\sklearn\\base.py:213: FutureWarning: From version 0.24, get_params will raise an AttributeError if a parameter cannot be retrieved as an instance attribute. Previously it would return None.\n",
      "  FutureWarning)\n"
     ]
    },
    {
     "data": {
      "text/plain": [
       "RSRM(gamma=None, rand_seed=42)"
      ]
     },
     "execution_count": 2,
     "metadata": {},
     "output_type": "execute_result"
    }
   ],
   "source": [
    "# Create an event dictionary\n",
    "event_dict = {'baseline': 1, 'left': 2, 'right': 3}\n",
    "\n",
    "# Specify tasks to include\n",
    "oc_fist = [3, 7, 11]\n",
    "\n",
    "# Specify event-timing\n",
    "tmin, tmax = -.2, 4\n",
    "\n",
    "# Instantiate the data set (raw locations, number of subjects / tasks)\n",
    "data = Dataset('motormovement_imagine')\n",
    "\n",
    "# Instantiate RSRM \n",
    "rsrm = RSRM(n_iter=10, gamma=1.0, features=50, rand_seed=42)\n",
    "\n",
    "# Read in the task data of interest\n",
    "# You can also specify a subset of subjects with a list or int, similar to \"tasks\" syntax\n",
    "data.preproc(event_dict=event_dict, baseline_start=tmin, stim_dur=tmax, \n",
    "             montage=mont, subjects=[1, 2], tasks=oc_fist, eog_chan='Fp2.')\n",
    "\n",
    "# Specify time-window and compute frequency features (log-spaced)\n",
    "data.feature_engineer(step_size=0.2, freq_min=3, freq_max=45, num_freq_fams=4)\n",
    "\n",
    "# Fit the RSRM\n",
    "rsrm.fit(data.feature_mats)"
   ]
  }
 ],
 "metadata": {
  "kernelspec": {
   "display_name": "Python 3",
   "language": "python",
   "name": "python3"
  },
  "language_info": {
   "codemirror_mode": {
    "name": "ipython",
    "version": 3
   },
   "file_extension": ".py",
   "mimetype": "text/x-python",
   "name": "python",
   "nbconvert_exporter": "python",
   "pygments_lexer": "ipython3",
   "version": "3.7.4"
  }
 },
 "nbformat": 4,
 "nbformat_minor": 4
}
