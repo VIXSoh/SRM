{
 "cells": [
  {
   "cell_type": "markdown",
   "metadata": {},
   "source": [
    "# DS 6011: Read in data\n",
    "\n",
    "- Andrew J. Graves, Cory Clayton, Joon Soh, Gabe Yohe\n",
    "- 10/17/20"
   ]
  },
  {
   "cell_type": "markdown",
   "metadata": {},
   "source": [
    "Here we have developed a dataset class that specifies parameters unique to each data set"
   ]
  },
  {
   "cell_type": "code",
   "execution_count": 1,
   "metadata": {},
   "outputs": [],
   "source": [
    "# Dataset class that specifies file structure for different datasets\n",
    "class Dataset:\n",
    "    \n",
    "    # Constructor assigns name, location, and size\n",
    "    def __init__(self, name):\n",
    "        self.name = name\n",
    "        \n",
    "        # Data dictionary for all datasets: directory, subjects, tasks\n",
    "        data_dict = {'motormovement_imagine': \n",
    "                         {'base_dir': 'https://github.com/VIXSoh/SRM/raw/master/data/',\n",
    "                          'n_subj': 109,\n",
    "                          'n_task': 14\n",
    "                         }\n",
    "                     # Add datasets here\n",
    "                    }\n",
    "        # Assign attributes to dataset instance\n",
    "        self.base_dir = data_dict[self.name]['base_dir']\n",
    "        self.n_subj = data_dict[self.name]['n_subj']\n",
    "        self.n_task = data_dict[self.name]['n_task']\n",
    "    \n",
    "    # Generates appropriate file paths\n",
    "    def get_file_format(self, subj, task):\n",
    "        \n",
    "        # Checks if name follows this file structure\n",
    "        if self.name in ['motormovement_imagine']:\n",
    "            \n",
    "            # Get all file paths\n",
    "            subj_num = f\"S{str(subj).rjust(3, '0')}\"\n",
    "            task_num = f\"R{str(task).rjust(2, '0')}\"\n",
    "            self.file_path = f'{self.base_dir}{subj_num}/{subj_num}{task_num}.edf'\n",
    "            \n",
    "# Write congig for different datasets. Class ingests config"
   ]
  },
  {
   "cell_type": "markdown",
   "metadata": {},
   "source": [
    "The following are helper functions for reading the data from various locations"
   ]
  },
  {
   "cell_type": "code",
   "execution_count": 2,
   "metadata": {},
   "outputs": [],
   "source": [
    "# Get data from internet using wget\n",
    "def wget_raw_edf(f):\n",
    "    \n",
    "    from wget import download\n",
    "    from os import remove\n",
    "    from mne.io import read_raw_edf\n",
    "    \n",
    "    wg = download(f) # download the data locally (temporarily)\n",
    "    raw = read_raw_edf(wg, preload = True) # read data as an MNE object\n",
    "    remove(wg) # delete the file locally\n",
    "    return raw\n",
    "\n",
    "# Specifies which files to iterate through\n",
    "def gen_iter(param, n_params):\n",
    "    \n",
    "    if param != 'all': # for subset of the data\n",
    "        param_iter = param\n",
    "    else: # for all of the data\n",
    "        param_iter = range(1, n_params+1)\n",
    "    return param_iter\n",
    "\n",
    "# Reads multiple EEG files with a single call\n",
    "def read_data(dataset, subjects='all', tasks='all'):\n",
    "    \n",
    "    # Instantiate the data set (raw locations, number of subjects / tasks)\n",
    "    data = Dataset(dataset)\n",
    "    \n",
    "    missing = [] # initialize missing file list\n",
    "    subj_iter = gen_iter(subjects, data.n_subj) # get subject iterator\n",
    "    task_iter = gen_iter(tasks, data.n_task) # get task iterator\n",
    "\n",
    "    # Iterate through subjects\n",
    "    for subj in subj_iter:\n",
    "        \n",
    "        # Iterate through tasks\n",
    "        for task in task_iter:\n",
    "            # Specify the file format\n",
    "            data.get_file_format(subj, task)\n",
    "            \n",
    "            try: # Handles missing files\n",
    "                return wget_raw_edf(data.file_path) # change back later\n",
    "                # Send to preproc function next\n",
    "            except:\n",
    "                print(f'---\\nThis file does not exist: {data.file_path}\\n---')\n",
    "                # Need to write the missing file list out\n",
    "                missing.append(data.file_path)"
   ]
  },
  {
   "cell_type": "markdown",
   "metadata": {},
   "source": [
    "Read in data"
   ]
  },
  {
   "cell_type": "code",
   "execution_count": 18,
   "metadata": {},
   "outputs": [
    {
     "name": "stdout",
     "output_type": "stream",
     "text": [
      "Extracting EDF parameters from C:\\Users\\joony\\CAPSTONE\\S001R04 (1).edf...\n",
      "EDF file detected\n",
      "Setting channel info structure...\n",
      "Creating raw.info structure...\n",
      "Reading 0 ... 19999  =      0.000 ...   124.994 secs...\n"
     ]
    }
   ],
   "source": [
    "dat1= read_data('motormovement_imagine', subjects=[1], tasks=[4])"
   ]
  },
  {
   "cell_type": "code",
   "execution_count": 19,
   "metadata": {},
   "outputs": [],
   "source": [
    "dic_var = {\n",
    "\"Fp1\":[-29.4367, 83.9171, -6.9900],\n",
    "\"Fpz\":[0.1123, 88.2470, -1.7130],\n",
    "\"Fp2\":[29.8723, 84.8959, -7.0800],\n",
    "\"AF7\":[-54.8397, 68.5722, -10.5900],\n",
    "\"AF3\":[-33.7007, 76.8371, 21.2270],\n",
    "\"AFz\":[0.2313, 80.7710, 35.4170],\n",
    "\"AF4\":[35.7123, 77.7259, 21.9560],\n",
    "\"AF8\":[55.7433, 69.6568, -10.7550],\n",
    "\"F7\":[-70.2629, 42.4743, -11.4200],\n",
    "\"F5\":[-64.4658, 48.0353, 16.9210],\n",
    "\"F3\":[-50.2438, 53.1112, 42.1920],\n",
    "\"F1\":[-27.4958, 56.9311, 60.3420],\n",
    "\"Fz\":[0.3122, 58.5120, 66.4620],\n",
    "\"F2\":[29.5142, 57.6019, 59.5400],\n",
    "\"F4\":[51.8362, 54.3048, 40.8140],\n",
    "\"F6\":[67.9142, 49.8297, 16.3670],\n",
    "\"F8\":[73.0431, 44.4217, -12.0000],\n",
    "\"FT7\":[-80.7750, 14.1203, -11.1350],\n",
    "\"FC5\":[-77.2149, 18.6433, 24.4600],\n",
    "\"FC3\":[-60.1819, 22.7162, 55.5440],\n",
    "\"FC1\":[-34.0619, 26.0111, 79.9870],\n",
    "\"FCz\":[0.3761, 27.3900, 88.6680],\n",
    "\"FC2\":[34.7841, 26.4379, 78.8080],\n",
    "\"FC4\":[62.2931, 23.7228, 55.6300],\n",
    "\"FC6\":[79.5341, 19.9357, 24.4380],\n",
    "\"FT8\":[81.8151, 15.4167, -11.3300],\n",
    "\"T9\":[-85.8941, -15.8287, -48.283],\n",
    "\"T7\":[-84.1611, -16.0187, -9.346],\n",
    "\"C5\":[-80.2801, -13.7597, 29.1600],\n",
    "\"C3\":[-65.3581, -11.6317, 64.3580],\n",
    "\"C1\":[-36.1580, -9.9839, 89.7520],\n",
    "\"Cz\":[0.4009, -9.1670, 100.2440],\n",
    "\"C2\":[37.6720, -9.6241, 88.4120],\n",
    "\"C4\":[67.1179, -10.9003, 63.5800],\n",
    "\"C6\":[83.4559, -12.7763, 29.2080],\n",
    "\"T8\":[85.0799, -15.0203, -9.4900],\n",
    "\"T10\":[85.5599, -16.3613, -48.2710],\n",
    "\"TP7\":[-84.8302, -46.0217, -7.056],\n",
    "\"CP5\":[-79.5922, -46.5507, 30.9490],\n",
    "\"CP3\":[-63.5562, -47.0088, 65.6240],\n",
    "\"CP1\":[-35.5131, -47.2919, 91.3150],\n",
    "\"CPz\":[0.3858, -47.3180, 99.4320],\n",
    "\"CP2\":[38.3838, -47.0731, 90.6950],\n",
    "\"CP4\":[66.6118, -46.6372, 65.5800],\n",
    "\"CP6\":[83.3218, -46.1013, 31.2060],\n",
    "\"TP8\":[85.5488, -45.5453, -7.1300],\n",
    "\"P7\":[-72.4343, -73.4527, -2.487],\n",
    "\"P5\":[-67.2723, -76.2907, 28.3820],\n",
    "\"P3\":[-53.0073, -78.7878, 55.9400],\n",
    "\"P1\":[-28.6203, -80.5249, 75.4360],\n",
    "\"Pz\":[0.3247, -81.1150, 82.6150],\n",
    "\"P2\":[31.9197, -80.4871, 76.7160],\n",
    "\"P4\":[55.6667, -78.5602, 56.5610],\n",
    "\"P6\":[67.8877, -75.9043, 28.0910],\n",
    "\"P8\":[73.0557, -73.0683, -2.5400],\n",
    "\"PO7\":[-54.8404, -97.5279, 2.7920],\n",
    "\"PO3\":[-36.5114, -100.8529, 37.1670],\n",
    "\"POz\":[0.2156, -102.1780, 50.6080],\n",
    "\"PO4\":[36.7816, -100.8491, 36.3970],\n",
    "\"PO8\":[55.6666, -97.6251, 2.7300],\n",
    "\"O1\":[-29.4134, -112.4490, 8.8390],\n",
    "\"Oz\":[0.1076, -114.8920, 14.6570],\n",
    "\"O2\":[29.8426, -112.1560, 8.8000],\n",
    "\"Iz\":[0.0045, -118.5650, -23.0780],\n",
    "}\n"
   ]
  },
  {
   "cell_type": "code",
   "execution_count": 20,
   "metadata": {},
   "outputs": [
    {
     "data": {
      "text/plain": [
       "{'Fp1': [-29.4367, 83.9171, -6.99],\n",
       " 'Fpz': [0.1123, 88.247, -1.713],\n",
       " 'Fp2': [29.8723, 84.8959, -7.08],\n",
       " 'AF7': [-54.8397, 68.5722, -10.59],\n",
       " 'AF3': [-33.7007, 76.8371, 21.227],\n",
       " 'AFz': [0.2313, 80.771, 35.417],\n",
       " 'AF4': [35.7123, 77.7259, 21.956],\n",
       " 'AF8': [55.7433, 69.6568, -10.755],\n",
       " 'F7': [-70.2629, 42.4743, -11.42],\n",
       " 'F5': [-64.4658, 48.0353, 16.921],\n",
       " 'F3': [-50.2438, 53.1112, 42.192],\n",
       " 'F1': [-27.4958, 56.9311, 60.342],\n",
       " 'Fz': [0.3122, 58.512, 66.462],\n",
       " 'F2': [29.5142, 57.6019, 59.54],\n",
       " 'F4': [51.8362, 54.3048, 40.814],\n",
       " 'F6': [67.9142, 49.8297, 16.367],\n",
       " 'F8': [73.0431, 44.4217, -12.0],\n",
       " 'FT7': [-80.775, 14.1203, -11.135],\n",
       " 'FC5': [-77.2149, 18.6433, 24.46],\n",
       " 'FC3': [-60.1819, 22.7162, 55.544],\n",
       " 'FC1': [-34.0619, 26.0111, 79.987],\n",
       " 'FCz': [0.3761, 27.39, 88.668],\n",
       " 'FC2': [34.7841, 26.4379, 78.808],\n",
       " 'FC4': [62.2931, 23.7228, 55.63],\n",
       " 'FC6': [79.5341, 19.9357, 24.438],\n",
       " 'FT8': [81.8151, 15.4167, -11.33],\n",
       " 'T9': [-85.8941, -15.8287, -48.283],\n",
       " 'T7': [-84.1611, -16.0187, -9.346],\n",
       " 'C5': [-80.2801, -13.7597, 29.16],\n",
       " 'C3': [-65.3581, -11.6317, 64.358],\n",
       " 'C1': [-36.158, -9.9839, 89.752],\n",
       " 'Cz': [0.4009, -9.167, 100.244],\n",
       " 'C2': [37.672, -9.6241, 88.412],\n",
       " 'C4': [67.1179, -10.9003, 63.58],\n",
       " 'C6': [83.4559, -12.7763, 29.208],\n",
       " 'T8': [85.0799, -15.0203, -9.49],\n",
       " 'T10': [85.5599, -16.3613, -48.271],\n",
       " 'TP7': [-84.8302, -46.0217, -7.056],\n",
       " 'CP5': [-79.5922, -46.5507, 30.949],\n",
       " 'CP3': [-63.5562, -47.0088, 65.624],\n",
       " 'CP1': [-35.5131, -47.2919, 91.315],\n",
       " 'CPz': [0.3858, -47.318, 99.432],\n",
       " 'CP2': [38.3838, -47.0731, 90.695],\n",
       " 'CP4': [66.6118, -46.6372, 65.58],\n",
       " 'CP6': [83.3218, -46.1013, 31.206],\n",
       " 'TP8': [85.5488, -45.5453, -7.13],\n",
       " 'P7': [-72.4343, -73.4527, -2.487],\n",
       " 'P5': [-67.2723, -76.2907, 28.382],\n",
       " 'P3': [-53.0073, -78.7878, 55.94],\n",
       " 'P1': [-28.6203, -80.5249, 75.436],\n",
       " 'Pz': [0.3247, -81.115, 82.615],\n",
       " 'P2': [31.9197, -80.4871, 76.716],\n",
       " 'P4': [55.6667, -78.5602, 56.561],\n",
       " 'P6': [67.8877, -75.9043, 28.091],\n",
       " 'P8': [73.0557, -73.0683, -2.54],\n",
       " 'PO7': [-54.8404, -97.5279, 2.792],\n",
       " 'PO3': [-36.5114, -100.8529, 37.167],\n",
       " 'POz': [0.2156, -102.178, 50.608],\n",
       " 'PO4': [36.7816, -100.8491, 36.397],\n",
       " 'PO8': [55.6666, -97.6251, 2.73],\n",
       " 'O1': [-29.4134, -112.449, 8.839],\n",
       " 'Oz': [0.1076, -114.892, 14.657],\n",
       " 'O2': [29.8426, -112.156, 8.8],\n",
       " 'Iz': [0.0045, -118.565, -23.078]}"
      ]
     },
     "execution_count": 20,
     "metadata": {},
     "output_type": "execute_result"
    }
   ],
   "source": [
    "dic_var"
   ]
  },
  {
   "cell_type": "code",
   "execution_count": 21,
   "metadata": {},
   "outputs": [
    {
     "data": {
      "text/plain": [
       "<DigMontage | 0 extras (headshape), 0 HPIs, 0 fiducials, 64 channels>"
      ]
     },
     "execution_count": 21,
     "metadata": {},
     "output_type": "execute_result"
    }
   ],
   "source": [
    "mont = mne.channels.make_dig_montage(dic_var)\n",
    "mont"
   ]
  },
  {
   "cell_type": "code",
   "execution_count": 22,
   "metadata": {},
   "outputs": [
    {
     "name": "stderr",
     "output_type": "stream",
     "text": [
      "<ipython-input-22-2abe6a1ac413>:1: RuntimeWarning: Fiducial point nasion not found, assuming identity unknown to head transformation\n",
      "  dat1.set_montage(montage=mont)\n"
     ]
    },
    {
     "ename": "ValueError",
     "evalue": "DigMontage is only a subset of info. There are 64 channel positions not present in the DigMontage. The required channels are:\n\n['Fc5.', 'Fc3.', 'Fc1.', 'Fcz.', 'Fc2.', 'Fc4.', 'Fc6.', 'C5..', 'C3..', 'C1..', 'Cz..', 'C2..', 'C4..', 'C6..', 'Cp5.', 'Cp3.', 'Cp1.', 'Cpz.', 'Cp2.', 'Cp4.', 'Cp6.', 'Fp1.', 'Fpz.', 'Fp2.', 'Af7.', 'Af3.', 'Afz.', 'Af4.', 'Af8.', 'F7..', 'F5..', 'F3..', 'F1..', 'Fz..', 'F2..', 'F4..', 'F6..', 'F8..', 'Ft7.', 'Ft8.', 'T7..', 'T8..', 'T9..', 'T10.', 'Tp7.', 'Tp8.', 'P7..', 'P5..', 'P3..', 'P1..', 'Pz..', 'P2..', 'P4..', 'P6..', 'P8..', 'Po7.', 'Po3.', 'Poz.', 'Po4.', 'Po8.', 'O1..', 'Oz..', 'O2..', 'Iz..'].\n\nConsider using inst.set_channel_types if these are not EEG channels, or use the on_missing parameter if the channel positions are allowed to be unknown in your analyses.",
     "output_type": "error",
     "traceback": [
      "\u001b[1;31m---------------------------------------------------------------------------\u001b[0m",
      "\u001b[1;31mValueError\u001b[0m                                Traceback (most recent call last)",
      "\u001b[1;32m<ipython-input-22-2abe6a1ac413>\u001b[0m in \u001b[0;36m<module>\u001b[1;34m\u001b[0m\n\u001b[1;32m----> 1\u001b[1;33m \u001b[0mdat1\u001b[0m\u001b[1;33m.\u001b[0m\u001b[0mset_montage\u001b[0m\u001b[1;33m(\u001b[0m\u001b[0mmontage\u001b[0m\u001b[1;33m=\u001b[0m\u001b[0mmont\u001b[0m\u001b[1;33m)\u001b[0m\u001b[1;33m\u001b[0m\u001b[1;33m\u001b[0m\u001b[0m\n\u001b[0m",
      "\u001b[1;32m<decorator-gen-22>\u001b[0m in \u001b[0;36mset_montage\u001b[1;34m(self, montage, match_case, on_missing, verbose)\u001b[0m\n",
      "\u001b[1;32m~\\anaconda3\\lib\\site-packages\\mne\\io\\meas_info.py\u001b[0m in \u001b[0;36mset_montage\u001b[1;34m(self, montage, match_case, on_missing, verbose)\u001b[0m\n\u001b[0;32m    178\u001b[0m         \u001b[1;32mfrom\u001b[0m \u001b[1;33m.\u001b[0m\u001b[1;33m.\u001b[0m\u001b[0mchannels\u001b[0m\u001b[1;33m.\u001b[0m\u001b[0mmontage\u001b[0m \u001b[1;32mimport\u001b[0m \u001b[0m_set_montage\u001b[0m\u001b[1;33m\u001b[0m\u001b[1;33m\u001b[0m\u001b[0m\n\u001b[0;32m    179\u001b[0m         \u001b[0minfo\u001b[0m \u001b[1;33m=\u001b[0m \u001b[0mself\u001b[0m \u001b[1;32mif\u001b[0m \u001b[0misinstance\u001b[0m\u001b[1;33m(\u001b[0m\u001b[0mself\u001b[0m\u001b[1;33m,\u001b[0m \u001b[0mInfo\u001b[0m\u001b[1;33m)\u001b[0m \u001b[1;32melse\u001b[0m \u001b[0mself\u001b[0m\u001b[1;33m.\u001b[0m\u001b[0minfo\u001b[0m\u001b[1;33m\u001b[0m\u001b[1;33m\u001b[0m\u001b[0m\n\u001b[1;32m--> 180\u001b[1;33m         \u001b[0m_set_montage\u001b[0m\u001b[1;33m(\u001b[0m\u001b[0minfo\u001b[0m\u001b[1;33m,\u001b[0m \u001b[0mmontage\u001b[0m\u001b[1;33m,\u001b[0m \u001b[0mmatch_case\u001b[0m\u001b[1;33m,\u001b[0m \u001b[0mon_missing\u001b[0m\u001b[1;33m)\u001b[0m\u001b[1;33m\u001b[0m\u001b[1;33m\u001b[0m\u001b[0m\n\u001b[0m\u001b[0;32m    181\u001b[0m         \u001b[1;32mreturn\u001b[0m \u001b[0mself\u001b[0m\u001b[1;33m\u001b[0m\u001b[1;33m\u001b[0m\u001b[0m\n\u001b[0;32m    182\u001b[0m \u001b[1;33m\u001b[0m\u001b[0m\n",
      "\u001b[1;32m~\\anaconda3\\lib\\site-packages\\mne\\channels\\montage.py\u001b[0m in \u001b[0;36m_set_montage\u001b[1;34m(info, montage, match_case, on_missing)\u001b[0m\n\u001b[0;32m    758\u001b[0m                 \u001b[1;34m'in your analyses.'\u001b[0m\u001b[1;33m\u001b[0m\u001b[1;33m\u001b[0m\u001b[0m\n\u001b[0;32m    759\u001b[0m             )\n\u001b[1;32m--> 760\u001b[1;33m             \u001b[0m_on_missing\u001b[0m\u001b[1;33m(\u001b[0m\u001b[0mon_missing\u001b[0m\u001b[1;33m,\u001b[0m \u001b[0mmissing_coord_msg\u001b[0m\u001b[1;33m)\u001b[0m\u001b[1;33m\u001b[0m\u001b[1;33m\u001b[0m\u001b[0m\n\u001b[0m\u001b[0;32m    761\u001b[0m \u001b[1;33m\u001b[0m\u001b[0m\n\u001b[0;32m    762\u001b[0m             \u001b[1;31m# set ch coordinates and names from digmontage or nan coords\u001b[0m\u001b[1;33m\u001b[0m\u001b[1;33m\u001b[0m\u001b[1;33m\u001b[0m\u001b[0m\n",
      "\u001b[1;32m~\\anaconda3\\lib\\site-packages\\mne\\utils\\check.py\u001b[0m in \u001b[0;36m_on_missing\u001b[1;34m(on_missing, msg)\u001b[0m\n\u001b[0;32m    726\u001b[0m     \u001b[0m_check_option\u001b[0m\u001b[1;33m(\u001b[0m\u001b[1;34m'on_missing'\u001b[0m\u001b[1;33m,\u001b[0m \u001b[0mon_missing\u001b[0m\u001b[1;33m,\u001b[0m \u001b[1;33m[\u001b[0m\u001b[1;34m'raise'\u001b[0m\u001b[1;33m,\u001b[0m \u001b[1;34m'warn'\u001b[0m\u001b[1;33m,\u001b[0m \u001b[1;34m'ignore'\u001b[0m\u001b[1;33m]\u001b[0m\u001b[1;33m)\u001b[0m\u001b[1;33m\u001b[0m\u001b[1;33m\u001b[0m\u001b[0m\n\u001b[0;32m    727\u001b[0m     \u001b[1;32mif\u001b[0m \u001b[0mon_missing\u001b[0m \u001b[1;33m==\u001b[0m \u001b[1;34m'raise'\u001b[0m\u001b[1;33m:\u001b[0m\u001b[1;33m\u001b[0m\u001b[1;33m\u001b[0m\u001b[0m\n\u001b[1;32m--> 728\u001b[1;33m         \u001b[1;32mraise\u001b[0m \u001b[0mValueError\u001b[0m\u001b[1;33m(\u001b[0m\u001b[0mmsg\u001b[0m\u001b[1;33m)\u001b[0m\u001b[1;33m\u001b[0m\u001b[1;33m\u001b[0m\u001b[0m\n\u001b[0m\u001b[0;32m    729\u001b[0m     \u001b[1;32melif\u001b[0m \u001b[0mon_missing\u001b[0m \u001b[1;33m==\u001b[0m \u001b[1;34m'warn'\u001b[0m\u001b[1;33m:\u001b[0m\u001b[1;33m\u001b[0m\u001b[1;33m\u001b[0m\u001b[0m\n\u001b[0;32m    730\u001b[0m         \u001b[0mwarn\u001b[0m\u001b[1;33m(\u001b[0m\u001b[0mmsg\u001b[0m\u001b[1;33m)\u001b[0m\u001b[1;33m\u001b[0m\u001b[1;33m\u001b[0m\u001b[0m\n",
      "\u001b[1;31mValueError\u001b[0m: DigMontage is only a subset of info. There are 64 channel positions not present in the DigMontage. The required channels are:\n\n['Fc5.', 'Fc3.', 'Fc1.', 'Fcz.', 'Fc2.', 'Fc4.', 'Fc6.', 'C5..', 'C3..', 'C1..', 'Cz..', 'C2..', 'C4..', 'C6..', 'Cp5.', 'Cp3.', 'Cp1.', 'Cpz.', 'Cp2.', 'Cp4.', 'Cp6.', 'Fp1.', 'Fpz.', 'Fp2.', 'Af7.', 'Af3.', 'Afz.', 'Af4.', 'Af8.', 'F7..', 'F5..', 'F3..', 'F1..', 'Fz..', 'F2..', 'F4..', 'F6..', 'F8..', 'Ft7.', 'Ft8.', 'T7..', 'T8..', 'T9..', 'T10.', 'Tp7.', 'Tp8.', 'P7..', 'P5..', 'P3..', 'P1..', 'Pz..', 'P2..', 'P4..', 'P6..', 'P8..', 'Po7.', 'Po3.', 'Poz.', 'Po4.', 'Po8.', 'O1..', 'Oz..', 'O2..', 'Iz..'].\n\nConsider using inst.set_channel_types if these are not EEG channels, or use the on_missing parameter if the channel positions are allowed to be unknown in your analyses."
     ]
    }
   ],
   "source": [
    "dat1.set_montage(montage=mont)"
   ]
  },
  {
   "cell_type": "markdown",
   "metadata": {},
   "source": [
    "## Manipulates an example subject (dated)"
   ]
  },
  {
   "cell_type": "code",
   "execution_count": 4,
   "metadata": {},
   "outputs": [
    {
     "name": "stdout",
     "output_type": "stream",
     "text": [
      "Extracting EDF parameters from C:\\Users\\joony\\CAPSTONE\\S001R04 (1).edf...\n",
      "EDF file detected\n",
      "Setting channel info structure...\n",
      "Creating raw.info structure...\n",
      "Reading 0 ... 19999  =      0.000 ...   124.994 secs...\n"
     ]
    },
    {
     "data": {
      "text/plain": [
       "64"
      ]
     },
     "execution_count": 4,
     "metadata": {},
     "output_type": "execute_result"
    }
   ],
   "source": [
    "%matplotlib inline\n",
    "\n",
    "# Import modules\n",
    "import numpy as np\n",
    "import mne\n",
    "\n",
    "# Example file from example subject\n",
    "raw = read_data('motormovement_imagine', subjects=[1], tasks=[4])\n",
    "\n",
    "# Print the information\n",
    "raw.info['nchan']"
   ]
  },
  {
   "cell_type": "code",
   "execution_count": 8,
   "metadata": {},
   "outputs": [
    {
     "ename": "ValueError",
     "evalue": "picks ('nchan') could not be interpreted as channel names (no channel \"nchan\"), channel types (no type \"nchan\"), or a generic type (just \"all\" or \"data\")",
     "output_type": "error",
     "traceback": [
      "\u001b[1;31m---------------------------------------------------------------------------\u001b[0m",
      "\u001b[1;31mValueError\u001b[0m                                Traceback (most recent call last)",
      "\u001b[1;32m<ipython-input-8-8312e72eecbb>\u001b[0m in \u001b[0;36m<module>\u001b[1;34m\u001b[0m\n\u001b[1;32m----> 1\u001b[1;33m \u001b[0mraw\u001b[0m\u001b[1;33m[\u001b[0m\u001b[1;34m'nchan'\u001b[0m\u001b[1;33m]\u001b[0m\u001b[1;33m\u001b[0m\u001b[1;33m\u001b[0m\u001b[0m\n\u001b[0m",
      "\u001b[1;32m~\\anaconda3\\lib\\site-packages\\mne\\io\\base.py\u001b[0m in \u001b[0;36m__getitem__\u001b[1;34m(self, item)\u001b[0m\n\u001b[0;32m    766\u001b[0m \u001b[1;33m\u001b[0m\u001b[0m\n\u001b[0;32m    767\u001b[0m         \"\"\"  # noqa: E501\n\u001b[1;32m--> 768\u001b[1;33m         \u001b[0msel\u001b[0m\u001b[1;33m,\u001b[0m \u001b[0mstart\u001b[0m\u001b[1;33m,\u001b[0m \u001b[0mstop\u001b[0m \u001b[1;33m=\u001b[0m \u001b[0mself\u001b[0m\u001b[1;33m.\u001b[0m\u001b[0m_parse_get_set_params\u001b[0m\u001b[1;33m(\u001b[0m\u001b[0mitem\u001b[0m\u001b[1;33m)\u001b[0m\u001b[1;33m\u001b[0m\u001b[1;33m\u001b[0m\u001b[0m\n\u001b[0m\u001b[0;32m    769\u001b[0m         \u001b[1;32mif\u001b[0m \u001b[0mself\u001b[0m\u001b[1;33m.\u001b[0m\u001b[0mpreload\u001b[0m\u001b[1;33m:\u001b[0m\u001b[1;33m\u001b[0m\u001b[1;33m\u001b[0m\u001b[0m\n\u001b[0;32m    770\u001b[0m             \u001b[0mdata\u001b[0m \u001b[1;33m=\u001b[0m \u001b[0mself\u001b[0m\u001b[1;33m.\u001b[0m\u001b[0m_data\u001b[0m\u001b[1;33m[\u001b[0m\u001b[0msel\u001b[0m\u001b[1;33m,\u001b[0m \u001b[0mstart\u001b[0m\u001b[1;33m:\u001b[0m\u001b[0mstop\u001b[0m\u001b[1;33m]\u001b[0m\u001b[1;33m\u001b[0m\u001b[1;33m\u001b[0m\u001b[0m\n",
      "\u001b[1;32m~\\anaconda3\\lib\\site-packages\\mne\\io\\base.py\u001b[0m in \u001b[0;36m_parse_get_set_params\u001b[1;34m(self, item)\u001b[0m\n\u001b[0;32m    701\u001b[0m                                \"and time)\")\n\u001b[0;32m    702\u001b[0m \u001b[1;33m\u001b[0m\u001b[0m\n\u001b[1;32m--> 703\u001b[1;33m         \u001b[0msel\u001b[0m \u001b[1;33m=\u001b[0m \u001b[0m_picks_to_idx\u001b[0m\u001b[1;33m(\u001b[0m\u001b[0mself\u001b[0m\u001b[1;33m.\u001b[0m\u001b[0minfo\u001b[0m\u001b[1;33m,\u001b[0m \u001b[0mitem\u001b[0m\u001b[1;33m[\u001b[0m\u001b[1;36m0\u001b[0m\u001b[1;33m]\u001b[0m\u001b[1;33m)\u001b[0m\u001b[1;33m\u001b[0m\u001b[1;33m\u001b[0m\u001b[0m\n\u001b[0m\u001b[0;32m    704\u001b[0m \u001b[1;33m\u001b[0m\u001b[0m\n\u001b[0;32m    705\u001b[0m         \u001b[1;32mif\u001b[0m \u001b[0misinstance\u001b[0m\u001b[1;33m(\u001b[0m\u001b[0mitem\u001b[0m\u001b[1;33m[\u001b[0m\u001b[1;36m1\u001b[0m\u001b[1;33m]\u001b[0m\u001b[1;33m,\u001b[0m \u001b[0mslice\u001b[0m\u001b[1;33m)\u001b[0m\u001b[1;33m:\u001b[0m\u001b[1;33m\u001b[0m\u001b[1;33m\u001b[0m\u001b[0m\n",
      "\u001b[1;32m~\\anaconda3\\lib\\site-packages\\mne\\io\\pick.py\u001b[0m in \u001b[0;36m_picks_to_idx\u001b[1;34m(info, picks, none, exclude, allow_empty, with_ref_meg, return_kind)\u001b[0m\n\u001b[0;32m   1010\u001b[0m         picks = _picks_str_to_idx(info, picks, exclude, with_ref_meg,\n\u001b[0;32m   1011\u001b[0m                                   \u001b[0mreturn_kind\u001b[0m\u001b[1;33m,\u001b[0m \u001b[0mextra_repr\u001b[0m\u001b[1;33m,\u001b[0m \u001b[0mallow_empty\u001b[0m\u001b[1;33m,\u001b[0m\u001b[1;33m\u001b[0m\u001b[1;33m\u001b[0m\u001b[0m\n\u001b[1;32m-> 1012\u001b[1;33m                                   orig_picks)\n\u001b[0m\u001b[0;32m   1013\u001b[0m         \u001b[1;32mif\u001b[0m \u001b[0mreturn_kind\u001b[0m\u001b[1;33m:\u001b[0m\u001b[1;33m\u001b[0m\u001b[1;33m\u001b[0m\u001b[0m\n\u001b[0;32m   1014\u001b[0m             \u001b[0mpicked_ch_type_or_generic\u001b[0m \u001b[1;33m=\u001b[0m \u001b[0mpicks\u001b[0m\u001b[1;33m[\u001b[0m\u001b[1;36m1\u001b[0m\u001b[1;33m]\u001b[0m\u001b[1;33m\u001b[0m\u001b[1;33m\u001b[0m\u001b[0m\n",
      "\u001b[1;32m~\\anaconda3\\lib\\site-packages\\mne\\io\\pick.py\u001b[0m in \u001b[0;36m_picks_str_to_idx\u001b[1;34m(info, picks, exclude, with_ref_meg, return_kind, extra_repr, allow_empty, orig_picks)\u001b[0m\n\u001b[0;32m   1124\u001b[0m                 \u001b[1;34m'channel names (no channel \"%s\"), channel types (no '\u001b[0m\u001b[1;33m\u001b[0m\u001b[1;33m\u001b[0m\u001b[0m\n\u001b[0;32m   1125\u001b[0m                 \u001b[1;34m'type \"%s\"), or a generic type (just \"all\" or \"data\")'\u001b[0m\u001b[1;33m\u001b[0m\u001b[1;33m\u001b[0m\u001b[0m\n\u001b[1;32m-> 1126\u001b[1;33m                 % (repr(orig_picks) + extra_repr, bad_name, bad_type))\n\u001b[0m\u001b[0;32m   1127\u001b[0m         \u001b[0mpicks\u001b[0m \u001b[1;33m=\u001b[0m \u001b[0mnp\u001b[0m\u001b[1;33m.\u001b[0m\u001b[0marray\u001b[0m\u001b[1;33m(\u001b[0m\u001b[1;33m[\u001b[0m\u001b[1;33m]\u001b[0m\u001b[1;33m,\u001b[0m \u001b[0mint\u001b[0m\u001b[1;33m)\u001b[0m\u001b[1;33m\u001b[0m\u001b[1;33m\u001b[0m\u001b[0m\n\u001b[0;32m   1128\u001b[0m     \u001b[1;32melif\u001b[0m \u001b[0msum\u001b[0m\u001b[1;33m(\u001b[0m\u001b[0many_found\u001b[0m\u001b[1;33m)\u001b[0m \u001b[1;33m>\u001b[0m \u001b[1;36m1\u001b[0m\u001b[1;33m:\u001b[0m\u001b[1;33m\u001b[0m\u001b[1;33m\u001b[0m\u001b[0m\n",
      "\u001b[1;31mValueError\u001b[0m: picks ('nchan') could not be interpreted as channel names (no channel \"nchan\"), channel types (no type \"nchan\"), or a generic type (just \"all\" or \"data\")"
     ]
    }
   ],
   "source": [
    "raw['nchan']"
   ]
  },
  {
   "cell_type": "code",
   "execution_count": 7,
   "metadata": {},
   "outputs": [],
   "source": [
    "# Create the montage\n",
    "mont = mne.channels.make_standard_montage('standard_1020')\n",
    "mont.ch_names = [i.upper() for i in mont.ch_names]\n",
    "n_chan = len(mont.ch_names)"
   ]
  },
  {
   "cell_type": "code",
   "execution_count": 7,
   "metadata": {},
   "outputs": [
    {
     "ename": "RuntimeError",
     "evalue": "info channel name inconsistency detected, please notify mne-python developers",
     "output_type": "error",
     "traceback": [
      "\u001b[1;31m---------------------------------------------------------------------------\u001b[0m",
      "\u001b[1;31mRuntimeError\u001b[0m                              Traceback (most recent call last)",
      "\u001b[1;32m<ipython-input-7-895639ce3ff5>\u001b[0m in \u001b[0;36m<module>\u001b[1;34m\u001b[0m\n\u001b[0;32m     15\u001b[0m \u001b[1;33m\u001b[0m\u001b[0m\n\u001b[0;32m     16\u001b[0m \u001b[1;31m# Set the montage\u001b[0m\u001b[1;33m\u001b[0m\u001b[1;33m\u001b[0m\u001b[1;33m\u001b[0m\u001b[0m\n\u001b[1;32m---> 17\u001b[1;33m \u001b[0mraw\u001b[0m\u001b[1;33m.\u001b[0m\u001b[0mset_montage\u001b[0m\u001b[1;33m(\u001b[0m\u001b[0mmontage\u001b[0m\u001b[1;33m=\u001b[0m\u001b[0mmont\u001b[0m\u001b[1;33m)\u001b[0m\u001b[1;33m\u001b[0m\u001b[1;33m\u001b[0m\u001b[0m\n\u001b[0m",
      "\u001b[1;32m<decorator-gen-22>\u001b[0m in \u001b[0;36mset_montage\u001b[1;34m(self, montage, match_case, on_missing, verbose)\u001b[0m\n",
      "\u001b[1;32m~\\anaconda3\\lib\\site-packages\\mne\\io\\meas_info.py\u001b[0m in \u001b[0;36mset_montage\u001b[1;34m(self, montage, match_case, on_missing, verbose)\u001b[0m\n\u001b[0;32m    178\u001b[0m         \u001b[1;32mfrom\u001b[0m \u001b[1;33m.\u001b[0m\u001b[1;33m.\u001b[0m\u001b[0mchannels\u001b[0m\u001b[1;33m.\u001b[0m\u001b[0mmontage\u001b[0m \u001b[1;32mimport\u001b[0m \u001b[0m_set_montage\u001b[0m\u001b[1;33m\u001b[0m\u001b[1;33m\u001b[0m\u001b[0m\n\u001b[0;32m    179\u001b[0m         \u001b[0minfo\u001b[0m \u001b[1;33m=\u001b[0m \u001b[0mself\u001b[0m \u001b[1;32mif\u001b[0m \u001b[0misinstance\u001b[0m\u001b[1;33m(\u001b[0m\u001b[0mself\u001b[0m\u001b[1;33m,\u001b[0m \u001b[0mInfo\u001b[0m\u001b[1;33m)\u001b[0m \u001b[1;32melse\u001b[0m \u001b[0mself\u001b[0m\u001b[1;33m.\u001b[0m\u001b[0minfo\u001b[0m\u001b[1;33m\u001b[0m\u001b[1;33m\u001b[0m\u001b[0m\n\u001b[1;32m--> 180\u001b[1;33m         \u001b[0m_set_montage\u001b[0m\u001b[1;33m(\u001b[0m\u001b[0minfo\u001b[0m\u001b[1;33m,\u001b[0m \u001b[0mmontage\u001b[0m\u001b[1;33m,\u001b[0m \u001b[0mmatch_case\u001b[0m\u001b[1;33m,\u001b[0m \u001b[0mon_missing\u001b[0m\u001b[1;33m)\u001b[0m\u001b[1;33m\u001b[0m\u001b[1;33m\u001b[0m\u001b[0m\n\u001b[0m\u001b[0;32m    181\u001b[0m         \u001b[1;32mreturn\u001b[0m \u001b[0mself\u001b[0m\u001b[1;33m\u001b[0m\u001b[1;33m\u001b[0m\u001b[0m\n\u001b[0;32m    182\u001b[0m \u001b[1;33m\u001b[0m\u001b[0m\n",
      "\u001b[1;32m~\\anaconda3\\lib\\site-packages\\mne\\channels\\montage.py\u001b[0m in \u001b[0;36m_set_montage\u001b[1;34m(info, montage, match_case, on_missing)\u001b[0m\n\u001b[0;32m    701\u001b[0m         \u001b[1;31m# get the reference position from the loc[3:6]\u001b[0m\u001b[1;33m\u001b[0m\u001b[1;33m\u001b[0m\u001b[1;33m\u001b[0m\u001b[0m\n\u001b[0;32m    702\u001b[0m         \u001b[0mchs\u001b[0m \u001b[1;33m=\u001b[0m \u001b[0minfo\u001b[0m\u001b[1;33m[\u001b[0m\u001b[1;34m'chs'\u001b[0m\u001b[1;33m]\u001b[0m\u001b[1;33m\u001b[0m\u001b[1;33m\u001b[0m\u001b[0m\n\u001b[1;32m--> 703\u001b[1;33m         \u001b[0mref_pos\u001b[0m \u001b[1;33m=\u001b[0m \u001b[1;33m[\u001b[0m\u001b[0mchs\u001b[0m\u001b[1;33m[\u001b[0m\u001b[0mii\u001b[0m\u001b[1;33m]\u001b[0m\u001b[1;33m[\u001b[0m\u001b[1;34m'loc'\u001b[0m\u001b[1;33m]\u001b[0m\u001b[1;33m[\u001b[0m\u001b[1;36m3\u001b[0m\u001b[1;33m:\u001b[0m\u001b[1;36m6\u001b[0m\u001b[1;33m]\u001b[0m \u001b[1;32mfor\u001b[0m \u001b[0mii\u001b[0m \u001b[1;32min\u001b[0m \u001b[0m_pick_chs\u001b[0m\u001b[1;33m(\u001b[0m\u001b[0minfo\u001b[0m\u001b[1;33m)\u001b[0m\u001b[1;33m]\u001b[0m\u001b[1;33m\u001b[0m\u001b[1;33m\u001b[0m\u001b[0m\n\u001b[0m\u001b[0;32m    704\u001b[0m \u001b[1;33m\u001b[0m\u001b[0m\n\u001b[0;32m    705\u001b[0m         \u001b[1;31m# keep reference location from EEG/ECoG/SEEG channels if they\u001b[0m\u001b[1;33m\u001b[0m\u001b[1;33m\u001b[0m\u001b[1;33m\u001b[0m\u001b[0m\n",
      "\u001b[1;32m~\\anaconda3\\lib\\site-packages\\mne\\io\\pick.py\u001b[0m in \u001b[0;36mpick_types\u001b[1;34m(info, meg, eeg, stim, eog, ecg, emg, ref_meg, misc, resp, chpi, exci, ias, syst, seeg, dipole, gof, bio, ecog, fnirs, csd, include, exclude, selection)\u001b[0m\n\u001b[0;32m    386\u001b[0m     \u001b[0mdeprecation_warn\u001b[0m \u001b[1;33m=\u001b[0m \u001b[1;32mFalse\u001b[0m\u001b[1;33m\u001b[0m\u001b[1;33m\u001b[0m\u001b[0m\n\u001b[0;32m    387\u001b[0m \u001b[1;33m\u001b[0m\u001b[0m\n\u001b[1;32m--> 388\u001b[1;33m     \u001b[0mexclude\u001b[0m \u001b[1;33m=\u001b[0m \u001b[0m_check_info_exclude\u001b[0m\u001b[1;33m(\u001b[0m\u001b[0minfo\u001b[0m\u001b[1;33m,\u001b[0m \u001b[0mexclude\u001b[0m\u001b[1;33m)\u001b[0m\u001b[1;33m\u001b[0m\u001b[1;33m\u001b[0m\u001b[0m\n\u001b[0m\u001b[0;32m    389\u001b[0m     \u001b[0mnchan\u001b[0m \u001b[1;33m=\u001b[0m \u001b[0minfo\u001b[0m\u001b[1;33m[\u001b[0m\u001b[1;34m'nchan'\u001b[0m\u001b[1;33m]\u001b[0m\u001b[1;33m\u001b[0m\u001b[1;33m\u001b[0m\u001b[0m\n\u001b[0;32m    390\u001b[0m     \u001b[0mpick\u001b[0m \u001b[1;33m=\u001b[0m \u001b[0mnp\u001b[0m\u001b[1;33m.\u001b[0m\u001b[0mzeros\u001b[0m\u001b[1;33m(\u001b[0m\u001b[0mnchan\u001b[0m\u001b[1;33m,\u001b[0m \u001b[0mdtype\u001b[0m\u001b[1;33m=\u001b[0m\u001b[0mbool\u001b[0m\u001b[1;33m)\u001b[0m\u001b[1;33m\u001b[0m\u001b[1;33m\u001b[0m\u001b[0m\n",
      "\u001b[1;32m~\\anaconda3\\lib\\site-packages\\mne\\io\\pick.py\u001b[0m in \u001b[0;36m_check_info_exclude\u001b[1;34m(info, exclude)\u001b[0m\n\u001b[0;32m    291\u001b[0m \u001b[1;32mdef\u001b[0m \u001b[0m_check_info_exclude\u001b[0m\u001b[1;33m(\u001b[0m\u001b[0minfo\u001b[0m\u001b[1;33m,\u001b[0m \u001b[0mexclude\u001b[0m\u001b[1;33m)\u001b[0m\u001b[1;33m:\u001b[0m\u001b[1;33m\u001b[0m\u001b[1;33m\u001b[0m\u001b[0m\n\u001b[0;32m    292\u001b[0m     \u001b[0m_validate_type\u001b[0m\u001b[1;33m(\u001b[0m\u001b[0minfo\u001b[0m\u001b[1;33m,\u001b[0m \u001b[1;34m\"info\"\u001b[0m\u001b[1;33m)\u001b[0m\u001b[1;33m\u001b[0m\u001b[1;33m\u001b[0m\u001b[0m\n\u001b[1;32m--> 293\u001b[1;33m     \u001b[0minfo\u001b[0m\u001b[1;33m.\u001b[0m\u001b[0m_check_consistency\u001b[0m\u001b[1;33m(\u001b[0m\u001b[1;33m)\u001b[0m\u001b[1;33m\u001b[0m\u001b[1;33m\u001b[0m\u001b[0m\n\u001b[0m\u001b[0;32m    294\u001b[0m     \u001b[1;32mif\u001b[0m \u001b[0mexclude\u001b[0m \u001b[1;32mis\u001b[0m \u001b[1;32mNone\u001b[0m\u001b[1;33m:\u001b[0m\u001b[1;33m\u001b[0m\u001b[1;33m\u001b[0m\u001b[0m\n\u001b[0;32m    295\u001b[0m         \u001b[1;32mraise\u001b[0m \u001b[0mValueError\u001b[0m\u001b[1;33m(\u001b[0m\u001b[1;34m'exclude must be a list of strings or \"bads\"'\u001b[0m\u001b[1;33m)\u001b[0m\u001b[1;33m\u001b[0m\u001b[1;33m\u001b[0m\u001b[0m\n",
      "\u001b[1;32m~\\anaconda3\\lib\\site-packages\\mne\\io\\meas_info.py\u001b[0m in \u001b[0;36m_check_consistency\u001b[1;34m(self, prepend_error)\u001b[0m\n\u001b[0;32m    726\u001b[0m             raise RuntimeError('%sinfo channel name inconsistency detected, '\n\u001b[0;32m    727\u001b[0m                                \u001b[1;34m'please notify mne-python developers'\u001b[0m\u001b[1;33m\u001b[0m\u001b[1;33m\u001b[0m\u001b[0m\n\u001b[1;32m--> 728\u001b[1;33m                                % (prepend_error,))\n\u001b[0m\u001b[0;32m    729\u001b[0m \u001b[1;33m\u001b[0m\u001b[0m\n\u001b[0;32m    730\u001b[0m         \u001b[1;31m# make sure we have the proper datatypes\u001b[0m\u001b[1;33m\u001b[0m\u001b[1;33m\u001b[0m\u001b[1;33m\u001b[0m\u001b[0m\n",
      "\u001b[1;31mRuntimeError\u001b[0m: info channel name inconsistency detected, please notify mne-python developers"
     ]
    }
   ],
   "source": [
    "#raw.set_channel_types({'EXG1': 'misc', 'EXG2': 'misc',\n",
    "#                       'EXG3': 'eog', 'EXG4': 'eog', \n",
    "#                       'EXG5': 'misc', 'EXG6': 'misc',\n",
    "#                       'EXG7': 'misc', 'EXG8': 'misc',\n",
    "#                       'Status': 'stim'})\n",
    "\n",
    "raw.info['ch_names'] =  [i.replace('.', '').upper() for i in raw.info['ch_names'] if i not in ['T9', 'T10']]\n",
    "\n",
    "#raw.pick_types(eeg=True)\n",
    "\n",
    "# Set the montage\n",
    "raw.set_montage(montage=mont)"
   ]
  },
  {
   "cell_type": "code",
   "execution_count": 6,
   "metadata": {},
   "outputs": [
    {
     "data": {
      "text/plain": [
       "64"
      ]
     },
     "execution_count": 6,
     "metadata": {},
     "output_type": "execute_result"
    }
   ],
   "source": [
    "len(raw.info['ch_names'])"
   ]
  },
  {
   "cell_type": "code",
   "execution_count": 7,
   "metadata": {},
   "outputs": [
    {
     "name": "stdout",
     "output_type": "stream",
     "text": [
      "(64, 20000)\n"
     ]
    }
   ],
   "source": [
    "# Print the EEG data shape\n",
    "shape = raw.get_data().shape\n",
    "print(shape)"
   ]
  },
  {
   "cell_type": "code",
   "execution_count": 8,
   "metadata": {},
   "outputs": [
    {
     "name": "stdout",
     "output_type": "stream",
     "text": [
      "80.0\n"
     ]
    }
   ],
   "source": [
    "# Sampling and Nyquist frequency\n",
    "samp_freq = raw.info['sfreq']\n",
    "nyq = samp_freq / 2\n",
    "print(nyq)"
   ]
  },
  {
   "cell_type": "code",
   "execution_count": 9,
   "metadata": {},
   "outputs": [
    {
     "data": {
      "text/plain": [
       "125.0"
      ]
     },
     "execution_count": 9,
     "metadata": {},
     "output_type": "execute_result"
    }
   ],
   "source": [
    "# Task time\n",
    "shape[1] / (samp_freq)"
   ]
  },
  {
   "cell_type": "code",
   "execution_count": 10,
   "metadata": {},
   "outputs": [
    {
     "name": "stdout",
     "output_type": "stream",
     "text": [
      "Used Annotations descriptions: ['T0', 'T1', 'T2']\n",
      "{'T0': 1, 'T1': 2, 'T2': 3}\n"
     ]
    },
    {
     "data": {
      "text/plain": [
       "array([[    0,     1],\n",
       "       [  672,     3],\n",
       "       [ 1328,     1],\n",
       "       [ 2000,     2],\n",
       "       [ 2656,     1],\n",
       "       [ 3328,     2],\n",
       "       [ 3984,     1],\n",
       "       [ 4656,     3],\n",
       "       [ 5312,     1],\n",
       "       [ 5984,     3],\n",
       "       [ 6640,     1],\n",
       "       [ 7312,     2],\n",
       "       [ 7968,     1],\n",
       "       [ 8640,     3],\n",
       "       [ 9296,     1],\n",
       "       [ 9968,     2],\n",
       "       [10624,     1],\n",
       "       [11296,     3],\n",
       "       [11952,     1],\n",
       "       [12624,     2],\n",
       "       [13280,     1],\n",
       "       [13952,     2],\n",
       "       [14608,     1],\n",
       "       [15280,     3],\n",
       "       [15936,     1],\n",
       "       [16608,     2],\n",
       "       [17264,     1],\n",
       "       [17936,     3],\n",
       "       [18592,     1],\n",
       "       [19264,     2]])"
      ]
     },
     "execution_count": 10,
     "metadata": {},
     "output_type": "execute_result"
    }
   ],
   "source": [
    "# T0 is baseline, T1 is left fist / both, T2 if right fist / both\n",
    "# Create an event dictionary\n",
    "event_dict = {'baseline': 1, 'left/both': 2, 'right/both': 3}\n",
    "\n",
    "ev = mne.events_from_annotations(raw)\n",
    "print(ev[1])\n",
    "np.delete(ev[0], 1, axis=1)"
   ]
  },
  {
   "cell_type": "code",
   "execution_count": 11,
   "metadata": {},
   "outputs": [
    {
     "ename": "RuntimeError",
     "evalue": "info channel name inconsistency detected, please notify mne-python developers",
     "output_type": "error",
     "traceback": [
      "\u001b[1;31m---------------------------------------------------------------------------\u001b[0m",
      "\u001b[1;31mRuntimeError\u001b[0m                              Traceback (most recent call last)",
      "\u001b[1;32m<ipython-input-11-67119a1fbdd9>\u001b[0m in \u001b[0;36m<module>\u001b[1;34m\u001b[0m\n\u001b[1;32m----> 1\u001b[1;33m \u001b[0munfilt\u001b[0m \u001b[1;33m=\u001b[0m \u001b[0mraw\u001b[0m\u001b[1;33m.\u001b[0m\u001b[0mplot\u001b[0m\u001b[1;33m(\u001b[0m\u001b[1;33m)\u001b[0m\u001b[1;33m\u001b[0m\u001b[1;33m\u001b[0m\u001b[0m\n\u001b[0m",
      "\u001b[1;32m~\\anaconda3\\lib\\site-packages\\mne\\io\\base.py\u001b[0m in \u001b[0;36mplot\u001b[1;34m(self, events, duration, start, n_channels, bgcolor, color, bad_color, event_color, scalings, remove_dc, order, show_options, title, show, block, highpass, lowpass, filtorder, clipping, show_first_samp, proj, group_by, butterfly, decim, noise_cov, event_id, show_scrollbars, show_scalebars, verbose)\u001b[0m\n\u001b[0;32m   1436\u001b[0m                         \u001b[0mgroup_by\u001b[0m\u001b[1;33m,\u001b[0m \u001b[0mbutterfly\u001b[0m\u001b[1;33m,\u001b[0m \u001b[0mdecim\u001b[0m\u001b[1;33m,\u001b[0m \u001b[0mnoise_cov\u001b[0m\u001b[1;33m=\u001b[0m\u001b[0mnoise_cov\u001b[0m\u001b[1;33m,\u001b[0m\u001b[1;33m\u001b[0m\u001b[1;33m\u001b[0m\u001b[0m\n\u001b[0;32m   1437\u001b[0m                         \u001b[0mevent_id\u001b[0m\u001b[1;33m=\u001b[0m\u001b[0mevent_id\u001b[0m\u001b[1;33m,\u001b[0m \u001b[0mshow_scrollbars\u001b[0m\u001b[1;33m=\u001b[0m\u001b[0mshow_scrollbars\u001b[0m\u001b[1;33m,\u001b[0m\u001b[1;33m\u001b[0m\u001b[1;33m\u001b[0m\u001b[0m\n\u001b[1;32m-> 1438\u001b[1;33m                         show_scalebars=show_scalebars, verbose=verbose)\n\u001b[0m\u001b[0;32m   1439\u001b[0m \u001b[1;33m\u001b[0m\u001b[0m\n\u001b[0;32m   1440\u001b[0m     \u001b[1;33m@\u001b[0m\u001b[0mverbose\u001b[0m\u001b[1;33m\u001b[0m\u001b[1;33m\u001b[0m\u001b[0m\n",
      "\u001b[1;32m<decorator-gen-148>\u001b[0m in \u001b[0;36mplot_raw\u001b[1;34m(raw, events, duration, start, n_channels, bgcolor, color, bad_color, event_color, scalings, remove_dc, order, show_options, title, show, block, highpass, lowpass, filtorder, clipping, show_first_samp, proj, group_by, butterfly, decim, noise_cov, event_id, show_scrollbars, show_scalebars, verbose)\u001b[0m\n",
      "\u001b[1;32m~\\anaconda3\\lib\\site-packages\\mne\\viz\\raw.py\u001b[0m in \u001b[0;36mplot_raw\u001b[1;34m(raw, events, duration, start, n_channels, bgcolor, color, bad_color, event_color, scalings, remove_dc, order, show_options, title, show, block, highpass, lowpass, filtorder, clipping, show_first_samp, proj, group_by, butterfly, decim, noise_cov, event_id, show_scrollbars, show_scalebars, verbose)\u001b[0m\n\u001b[0;32m    349\u001b[0m     \u001b[0mtypes\u001b[0m \u001b[1;33m=\u001b[0m \u001b[0mlist\u001b[0m\u001b[1;33m(\u001b[0m\u001b[1;33m)\u001b[0m\u001b[1;33m\u001b[0m\u001b[1;33m\u001b[0m\u001b[0m\n\u001b[0;32m    350\u001b[0m     \u001b[1;32mfor\u001b[0m \u001b[0mt\u001b[0m \u001b[1;32min\u001b[0m \u001b[1;33m[\u001b[0m\u001b[1;34m'grad'\u001b[0m\u001b[1;33m,\u001b[0m \u001b[1;34m'mag'\u001b[0m\u001b[1;33m]\u001b[0m\u001b[1;33m:\u001b[0m\u001b[1;33m\u001b[0m\u001b[1;33m\u001b[0m\u001b[0m\n\u001b[1;32m--> 351\u001b[1;33m         \u001b[0minds\u001b[0m \u001b[1;33m+=\u001b[0m \u001b[1;33m[\u001b[0m\u001b[0mpick_types\u001b[0m\u001b[1;33m(\u001b[0m\u001b[0minfo\u001b[0m\u001b[1;33m,\u001b[0m \u001b[0mmeg\u001b[0m\u001b[1;33m=\u001b[0m\u001b[0mt\u001b[0m\u001b[1;33m,\u001b[0m \u001b[0mref_meg\u001b[0m\u001b[1;33m=\u001b[0m\u001b[1;32mFalse\u001b[0m\u001b[1;33m,\u001b[0m \u001b[0mexclude\u001b[0m\u001b[1;33m=\u001b[0m\u001b[1;33m[\u001b[0m\u001b[1;33m]\u001b[0m\u001b[1;33m)\u001b[0m\u001b[1;33m]\u001b[0m\u001b[1;33m\u001b[0m\u001b[1;33m\u001b[0m\u001b[0m\n\u001b[0m\u001b[0;32m    352\u001b[0m         \u001b[0mtypes\u001b[0m \u001b[1;33m+=\u001b[0m \u001b[1;33m[\u001b[0m\u001b[0mt\u001b[0m\u001b[1;33m]\u001b[0m \u001b[1;33m*\u001b[0m \u001b[0mlen\u001b[0m\u001b[1;33m(\u001b[0m\u001b[0minds\u001b[0m\u001b[1;33m[\u001b[0m\u001b[1;33m-\u001b[0m\u001b[1;36m1\u001b[0m\u001b[1;33m]\u001b[0m\u001b[1;33m)\u001b[0m\u001b[1;33m\u001b[0m\u001b[1;33m\u001b[0m\u001b[0m\n\u001b[0;32m    353\u001b[0m     \u001b[1;32mfor\u001b[0m \u001b[0mt\u001b[0m \u001b[1;32min\u001b[0m \u001b[1;33m[\u001b[0m\u001b[1;34m'hbo'\u001b[0m\u001b[1;33m,\u001b[0m \u001b[1;34m'hbr'\u001b[0m\u001b[1;33m,\u001b[0m \u001b[1;34m'fnirs_cw_amplitude'\u001b[0m\u001b[1;33m,\u001b[0m \u001b[1;34m'fnirs_od'\u001b[0m\u001b[1;33m]\u001b[0m\u001b[1;33m:\u001b[0m\u001b[1;33m\u001b[0m\u001b[1;33m\u001b[0m\u001b[0m\n",
      "\u001b[1;32m~\\anaconda3\\lib\\site-packages\\mne\\io\\pick.py\u001b[0m in \u001b[0;36mpick_types\u001b[1;34m(info, meg, eeg, stim, eog, ecg, emg, ref_meg, misc, resp, chpi, exci, ias, syst, seeg, dipole, gof, bio, ecog, fnirs, csd, include, exclude, selection)\u001b[0m\n\u001b[0;32m    386\u001b[0m     \u001b[0mdeprecation_warn\u001b[0m \u001b[1;33m=\u001b[0m \u001b[1;32mFalse\u001b[0m\u001b[1;33m\u001b[0m\u001b[1;33m\u001b[0m\u001b[0m\n\u001b[0;32m    387\u001b[0m \u001b[1;33m\u001b[0m\u001b[0m\n\u001b[1;32m--> 388\u001b[1;33m     \u001b[0mexclude\u001b[0m \u001b[1;33m=\u001b[0m \u001b[0m_check_info_exclude\u001b[0m\u001b[1;33m(\u001b[0m\u001b[0minfo\u001b[0m\u001b[1;33m,\u001b[0m \u001b[0mexclude\u001b[0m\u001b[1;33m)\u001b[0m\u001b[1;33m\u001b[0m\u001b[1;33m\u001b[0m\u001b[0m\n\u001b[0m\u001b[0;32m    389\u001b[0m     \u001b[0mnchan\u001b[0m \u001b[1;33m=\u001b[0m \u001b[0minfo\u001b[0m\u001b[1;33m[\u001b[0m\u001b[1;34m'nchan'\u001b[0m\u001b[1;33m]\u001b[0m\u001b[1;33m\u001b[0m\u001b[1;33m\u001b[0m\u001b[0m\n\u001b[0;32m    390\u001b[0m     \u001b[0mpick\u001b[0m \u001b[1;33m=\u001b[0m \u001b[0mnp\u001b[0m\u001b[1;33m.\u001b[0m\u001b[0mzeros\u001b[0m\u001b[1;33m(\u001b[0m\u001b[0mnchan\u001b[0m\u001b[1;33m,\u001b[0m \u001b[0mdtype\u001b[0m\u001b[1;33m=\u001b[0m\u001b[0mbool\u001b[0m\u001b[1;33m)\u001b[0m\u001b[1;33m\u001b[0m\u001b[1;33m\u001b[0m\u001b[0m\n",
      "\u001b[1;32m~\\anaconda3\\lib\\site-packages\\mne\\io\\pick.py\u001b[0m in \u001b[0;36m_check_info_exclude\u001b[1;34m(info, exclude)\u001b[0m\n\u001b[0;32m    291\u001b[0m \u001b[1;32mdef\u001b[0m \u001b[0m_check_info_exclude\u001b[0m\u001b[1;33m(\u001b[0m\u001b[0minfo\u001b[0m\u001b[1;33m,\u001b[0m \u001b[0mexclude\u001b[0m\u001b[1;33m)\u001b[0m\u001b[1;33m:\u001b[0m\u001b[1;33m\u001b[0m\u001b[1;33m\u001b[0m\u001b[0m\n\u001b[0;32m    292\u001b[0m     \u001b[0m_validate_type\u001b[0m\u001b[1;33m(\u001b[0m\u001b[0minfo\u001b[0m\u001b[1;33m,\u001b[0m \u001b[1;34m\"info\"\u001b[0m\u001b[1;33m)\u001b[0m\u001b[1;33m\u001b[0m\u001b[1;33m\u001b[0m\u001b[0m\n\u001b[1;32m--> 293\u001b[1;33m     \u001b[0minfo\u001b[0m\u001b[1;33m.\u001b[0m\u001b[0m_check_consistency\u001b[0m\u001b[1;33m(\u001b[0m\u001b[1;33m)\u001b[0m\u001b[1;33m\u001b[0m\u001b[1;33m\u001b[0m\u001b[0m\n\u001b[0m\u001b[0;32m    294\u001b[0m     \u001b[1;32mif\u001b[0m \u001b[0mexclude\u001b[0m \u001b[1;32mis\u001b[0m \u001b[1;32mNone\u001b[0m\u001b[1;33m:\u001b[0m\u001b[1;33m\u001b[0m\u001b[1;33m\u001b[0m\u001b[0m\n\u001b[0;32m    295\u001b[0m         \u001b[1;32mraise\u001b[0m \u001b[0mValueError\u001b[0m\u001b[1;33m(\u001b[0m\u001b[1;34m'exclude must be a list of strings or \"bads\"'\u001b[0m\u001b[1;33m)\u001b[0m\u001b[1;33m\u001b[0m\u001b[1;33m\u001b[0m\u001b[0m\n",
      "\u001b[1;32m~\\anaconda3\\lib\\site-packages\\mne\\io\\meas_info.py\u001b[0m in \u001b[0;36m_check_consistency\u001b[1;34m(self, prepend_error)\u001b[0m\n\u001b[0;32m    726\u001b[0m             raise RuntimeError('%sinfo channel name inconsistency detected, '\n\u001b[0;32m    727\u001b[0m                                \u001b[1;34m'please notify mne-python developers'\u001b[0m\u001b[1;33m\u001b[0m\u001b[1;33m\u001b[0m\u001b[0m\n\u001b[1;32m--> 728\u001b[1;33m                                % (prepend_error,))\n\u001b[0m\u001b[0;32m    729\u001b[0m \u001b[1;33m\u001b[0m\u001b[0m\n\u001b[0;32m    730\u001b[0m         \u001b[1;31m# make sure we have the proper datatypes\u001b[0m\u001b[1;33m\u001b[0m\u001b[1;33m\u001b[0m\u001b[1;33m\u001b[0m\u001b[0m\n",
      "\u001b[1;31mRuntimeError\u001b[0m: info channel name inconsistency detected, please notify mne-python developers"
     ]
    }
   ],
   "source": [
    "unfilt = raw.plot()"
   ]
  },
  {
   "cell_type": "code",
   "execution_count": 14,
   "metadata": {},
   "outputs": [
    {
     "name": "stdout",
     "output_type": "stream",
     "text": [
      "Setting up band-pass filter from 0.5 - 79 Hz\n",
      "\n",
      "IIR filter parameters\n",
      "---------------------\n",
      "Butterworth bandpass zero-phase (two-pass forward and reverse) non-causal filter:\n",
      "- Filter order 16 (effective, after forward-backward)\n",
      "- Cutoffs at 0.50, 79.00 Hz: -6.02, -6.02 dB\n",
      "\n"
     ]
    },
    {
     "ename": "RuntimeError",
     "evalue": "info channel name inconsistency detected, please notify mne-python developers",
     "output_type": "error",
     "traceback": [
      "\u001b[1;31m---------------------------------------------------------------------------\u001b[0m",
      "\u001b[1;31mRuntimeError\u001b[0m                              Traceback (most recent call last)",
      "\u001b[1;32m<ipython-input-14-d7c5ebcb36c7>\u001b[0m in \u001b[0;36m<module>\u001b[1;34m\u001b[0m\n\u001b[1;32m----> 1\u001b[1;33m \u001b[0mfilt\u001b[0m \u001b[1;33m=\u001b[0m \u001b[0mraw\u001b[0m\u001b[1;33m.\u001b[0m\u001b[0mplot\u001b[0m\u001b[1;33m(\u001b[0m\u001b[0mhighpass\u001b[0m\u001b[1;33m=\u001b[0m\u001b[1;36m.5\u001b[0m\u001b[1;33m,\u001b[0m \u001b[0mlowpass\u001b[0m\u001b[1;33m=\u001b[0m\u001b[0mnyq\u001b[0m\u001b[1;33m-\u001b[0m\u001b[1;36m1\u001b[0m\u001b[1;33m)\u001b[0m\u001b[1;33m\u001b[0m\u001b[1;33m\u001b[0m\u001b[0m\n\u001b[0m",
      "\u001b[1;32m~\\anaconda3\\lib\\site-packages\\mne\\io\\base.py\u001b[0m in \u001b[0;36mplot\u001b[1;34m(self, events, duration, start, n_channels, bgcolor, color, bad_color, event_color, scalings, remove_dc, order, show_options, title, show, block, highpass, lowpass, filtorder, clipping, show_first_samp, proj, group_by, butterfly, decim, noise_cov, event_id, show_scrollbars, show_scalebars, verbose)\u001b[0m\n\u001b[0;32m   1436\u001b[0m                         \u001b[0mgroup_by\u001b[0m\u001b[1;33m,\u001b[0m \u001b[0mbutterfly\u001b[0m\u001b[1;33m,\u001b[0m \u001b[0mdecim\u001b[0m\u001b[1;33m,\u001b[0m \u001b[0mnoise_cov\u001b[0m\u001b[1;33m=\u001b[0m\u001b[0mnoise_cov\u001b[0m\u001b[1;33m,\u001b[0m\u001b[1;33m\u001b[0m\u001b[1;33m\u001b[0m\u001b[0m\n\u001b[0;32m   1437\u001b[0m                         \u001b[0mevent_id\u001b[0m\u001b[1;33m=\u001b[0m\u001b[0mevent_id\u001b[0m\u001b[1;33m,\u001b[0m \u001b[0mshow_scrollbars\u001b[0m\u001b[1;33m=\u001b[0m\u001b[0mshow_scrollbars\u001b[0m\u001b[1;33m,\u001b[0m\u001b[1;33m\u001b[0m\u001b[1;33m\u001b[0m\u001b[0m\n\u001b[1;32m-> 1438\u001b[1;33m                         show_scalebars=show_scalebars, verbose=verbose)\n\u001b[0m\u001b[0;32m   1439\u001b[0m \u001b[1;33m\u001b[0m\u001b[0m\n\u001b[0;32m   1440\u001b[0m     \u001b[1;33m@\u001b[0m\u001b[0mverbose\u001b[0m\u001b[1;33m\u001b[0m\u001b[1;33m\u001b[0m\u001b[0m\n",
      "\u001b[1;32m<decorator-gen-148>\u001b[0m in \u001b[0;36mplot_raw\u001b[1;34m(raw, events, duration, start, n_channels, bgcolor, color, bad_color, event_color, scalings, remove_dc, order, show_options, title, show, block, highpass, lowpass, filtorder, clipping, show_first_samp, proj, group_by, butterfly, decim, noise_cov, event_id, show_scrollbars, show_scalebars, verbose)\u001b[0m\n",
      "\u001b[1;32m~\\anaconda3\\lib\\site-packages\\mne\\viz\\raw.py\u001b[0m in \u001b[0;36mplot_raw\u001b[1;34m(raw, events, duration, start, n_channels, bgcolor, color, bad_color, event_color, scalings, remove_dc, order, show_options, title, show, block, highpass, lowpass, filtorder, clipping, show_first_samp, proj, group_by, butterfly, decim, noise_cov, event_id, show_scrollbars, show_scalebars, verbose)\u001b[0m\n\u001b[0;32m    349\u001b[0m     \u001b[0mtypes\u001b[0m \u001b[1;33m=\u001b[0m \u001b[0mlist\u001b[0m\u001b[1;33m(\u001b[0m\u001b[1;33m)\u001b[0m\u001b[1;33m\u001b[0m\u001b[1;33m\u001b[0m\u001b[0m\n\u001b[0;32m    350\u001b[0m     \u001b[1;32mfor\u001b[0m \u001b[0mt\u001b[0m \u001b[1;32min\u001b[0m \u001b[1;33m[\u001b[0m\u001b[1;34m'grad'\u001b[0m\u001b[1;33m,\u001b[0m \u001b[1;34m'mag'\u001b[0m\u001b[1;33m]\u001b[0m\u001b[1;33m:\u001b[0m\u001b[1;33m\u001b[0m\u001b[1;33m\u001b[0m\u001b[0m\n\u001b[1;32m--> 351\u001b[1;33m         \u001b[0minds\u001b[0m \u001b[1;33m+=\u001b[0m \u001b[1;33m[\u001b[0m\u001b[0mpick_types\u001b[0m\u001b[1;33m(\u001b[0m\u001b[0minfo\u001b[0m\u001b[1;33m,\u001b[0m \u001b[0mmeg\u001b[0m\u001b[1;33m=\u001b[0m\u001b[0mt\u001b[0m\u001b[1;33m,\u001b[0m \u001b[0mref_meg\u001b[0m\u001b[1;33m=\u001b[0m\u001b[1;32mFalse\u001b[0m\u001b[1;33m,\u001b[0m \u001b[0mexclude\u001b[0m\u001b[1;33m=\u001b[0m\u001b[1;33m[\u001b[0m\u001b[1;33m]\u001b[0m\u001b[1;33m)\u001b[0m\u001b[1;33m]\u001b[0m\u001b[1;33m\u001b[0m\u001b[1;33m\u001b[0m\u001b[0m\n\u001b[0m\u001b[0;32m    352\u001b[0m         \u001b[0mtypes\u001b[0m \u001b[1;33m+=\u001b[0m \u001b[1;33m[\u001b[0m\u001b[0mt\u001b[0m\u001b[1;33m]\u001b[0m \u001b[1;33m*\u001b[0m \u001b[0mlen\u001b[0m\u001b[1;33m(\u001b[0m\u001b[0minds\u001b[0m\u001b[1;33m[\u001b[0m\u001b[1;33m-\u001b[0m\u001b[1;36m1\u001b[0m\u001b[1;33m]\u001b[0m\u001b[1;33m)\u001b[0m\u001b[1;33m\u001b[0m\u001b[1;33m\u001b[0m\u001b[0m\n\u001b[0;32m    353\u001b[0m     \u001b[1;32mfor\u001b[0m \u001b[0mt\u001b[0m \u001b[1;32min\u001b[0m \u001b[1;33m[\u001b[0m\u001b[1;34m'hbo'\u001b[0m\u001b[1;33m,\u001b[0m \u001b[1;34m'hbr'\u001b[0m\u001b[1;33m,\u001b[0m \u001b[1;34m'fnirs_cw_amplitude'\u001b[0m\u001b[1;33m,\u001b[0m \u001b[1;34m'fnirs_od'\u001b[0m\u001b[1;33m]\u001b[0m\u001b[1;33m:\u001b[0m\u001b[1;33m\u001b[0m\u001b[1;33m\u001b[0m\u001b[0m\n",
      "\u001b[1;32m~\\anaconda3\\lib\\site-packages\\mne\\io\\pick.py\u001b[0m in \u001b[0;36mpick_types\u001b[1;34m(info, meg, eeg, stim, eog, ecg, emg, ref_meg, misc, resp, chpi, exci, ias, syst, seeg, dipole, gof, bio, ecog, fnirs, csd, include, exclude, selection)\u001b[0m\n\u001b[0;32m    386\u001b[0m     \u001b[0mdeprecation_warn\u001b[0m \u001b[1;33m=\u001b[0m \u001b[1;32mFalse\u001b[0m\u001b[1;33m\u001b[0m\u001b[1;33m\u001b[0m\u001b[0m\n\u001b[0;32m    387\u001b[0m \u001b[1;33m\u001b[0m\u001b[0m\n\u001b[1;32m--> 388\u001b[1;33m     \u001b[0mexclude\u001b[0m \u001b[1;33m=\u001b[0m \u001b[0m_check_info_exclude\u001b[0m\u001b[1;33m(\u001b[0m\u001b[0minfo\u001b[0m\u001b[1;33m,\u001b[0m \u001b[0mexclude\u001b[0m\u001b[1;33m)\u001b[0m\u001b[1;33m\u001b[0m\u001b[1;33m\u001b[0m\u001b[0m\n\u001b[0m\u001b[0;32m    389\u001b[0m     \u001b[0mnchan\u001b[0m \u001b[1;33m=\u001b[0m \u001b[0minfo\u001b[0m\u001b[1;33m[\u001b[0m\u001b[1;34m'nchan'\u001b[0m\u001b[1;33m]\u001b[0m\u001b[1;33m\u001b[0m\u001b[1;33m\u001b[0m\u001b[0m\n\u001b[0;32m    390\u001b[0m     \u001b[0mpick\u001b[0m \u001b[1;33m=\u001b[0m \u001b[0mnp\u001b[0m\u001b[1;33m.\u001b[0m\u001b[0mzeros\u001b[0m\u001b[1;33m(\u001b[0m\u001b[0mnchan\u001b[0m\u001b[1;33m,\u001b[0m \u001b[0mdtype\u001b[0m\u001b[1;33m=\u001b[0m\u001b[0mbool\u001b[0m\u001b[1;33m)\u001b[0m\u001b[1;33m\u001b[0m\u001b[1;33m\u001b[0m\u001b[0m\n",
      "\u001b[1;32m~\\anaconda3\\lib\\site-packages\\mne\\io\\pick.py\u001b[0m in \u001b[0;36m_check_info_exclude\u001b[1;34m(info, exclude)\u001b[0m\n\u001b[0;32m    291\u001b[0m \u001b[1;32mdef\u001b[0m \u001b[0m_check_info_exclude\u001b[0m\u001b[1;33m(\u001b[0m\u001b[0minfo\u001b[0m\u001b[1;33m,\u001b[0m \u001b[0mexclude\u001b[0m\u001b[1;33m)\u001b[0m\u001b[1;33m:\u001b[0m\u001b[1;33m\u001b[0m\u001b[1;33m\u001b[0m\u001b[0m\n\u001b[0;32m    292\u001b[0m     \u001b[0m_validate_type\u001b[0m\u001b[1;33m(\u001b[0m\u001b[0minfo\u001b[0m\u001b[1;33m,\u001b[0m \u001b[1;34m\"info\"\u001b[0m\u001b[1;33m)\u001b[0m\u001b[1;33m\u001b[0m\u001b[1;33m\u001b[0m\u001b[0m\n\u001b[1;32m--> 293\u001b[1;33m     \u001b[0minfo\u001b[0m\u001b[1;33m.\u001b[0m\u001b[0m_check_consistency\u001b[0m\u001b[1;33m(\u001b[0m\u001b[1;33m)\u001b[0m\u001b[1;33m\u001b[0m\u001b[1;33m\u001b[0m\u001b[0m\n\u001b[0m\u001b[0;32m    294\u001b[0m     \u001b[1;32mif\u001b[0m \u001b[0mexclude\u001b[0m \u001b[1;32mis\u001b[0m \u001b[1;32mNone\u001b[0m\u001b[1;33m:\u001b[0m\u001b[1;33m\u001b[0m\u001b[1;33m\u001b[0m\u001b[0m\n\u001b[0;32m    295\u001b[0m         \u001b[1;32mraise\u001b[0m \u001b[0mValueError\u001b[0m\u001b[1;33m(\u001b[0m\u001b[1;34m'exclude must be a list of strings or \"bads\"'\u001b[0m\u001b[1;33m)\u001b[0m\u001b[1;33m\u001b[0m\u001b[1;33m\u001b[0m\u001b[0m\n",
      "\u001b[1;32m~\\anaconda3\\lib\\site-packages\\mne\\io\\meas_info.py\u001b[0m in \u001b[0;36m_check_consistency\u001b[1;34m(self, prepend_error)\u001b[0m\n\u001b[0;32m    726\u001b[0m             raise RuntimeError('%sinfo channel name inconsistency detected, '\n\u001b[0;32m    727\u001b[0m                                \u001b[1;34m'please notify mne-python developers'\u001b[0m\u001b[1;33m\u001b[0m\u001b[1;33m\u001b[0m\u001b[0m\n\u001b[1;32m--> 728\u001b[1;33m                                % (prepend_error,))\n\u001b[0m\u001b[0;32m    729\u001b[0m \u001b[1;33m\u001b[0m\u001b[0m\n\u001b[0;32m    730\u001b[0m         \u001b[1;31m# make sure we have the proper datatypes\u001b[0m\u001b[1;33m\u001b[0m\u001b[1;33m\u001b[0m\u001b[1;33m\u001b[0m\u001b[0m\n",
      "\u001b[1;31mRuntimeError\u001b[0m: info channel name inconsistency detected, please notify mne-python developers"
     ]
    }
   ],
   "source": [
    "filt = raw.plot(highpass=.5, lowpass=nyq-1)"
   ]
  },
  {
   "cell_type": "code",
   "execution_count": 13,
   "metadata": {},
   "outputs": [
    {
     "data": {
      "text/plain": [
       "79.0"
      ]
     },
     "execution_count": 13,
     "metadata": {},
     "output_type": "execute_result"
    }
   ],
   "source": [
    "nyq-1"
   ]
  },
  {
   "cell_type": "code",
   "execution_count": null,
   "metadata": {},
   "outputs": [],
   "source": []
  }
 ],
 "metadata": {
  "kernelspec": {
   "display_name": "Python 3",
   "language": "python",
   "name": "python3"
  },
  "language_info": {
   "codemirror_mode": {
    "name": "ipython",
    "version": 3
   },
   "file_extension": ".py",
   "mimetype": "text/x-python",
   "name": "python",
   "nbconvert_exporter": "python",
   "pygments_lexer": "ipython3",
   "version": "3.7.6"
  }
 },
 "nbformat": 4,
 "nbformat_minor": 4
}
